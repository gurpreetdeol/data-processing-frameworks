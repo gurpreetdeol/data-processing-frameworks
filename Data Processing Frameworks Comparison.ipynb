{
 "cells": [
  {
   "cell_type": "code",
   "id": "initial_id",
   "metadata": {
    "collapsed": true,
    "ExecuteTime": {
     "end_time": "2024-08-23T01:44:58.732175Z",
     "start_time": "2024-08-23T01:44:58.685885Z"
    }
   },
   "source": "ls -ltr \"data/nyse_all/nyse_data/\"",
   "outputs": [
    {
     "name": "stdout",
     "output_type": "stream",
     "text": [
      " Volume in drive D is Data\n",
      " Volume Serial Number is 8AE2-24DA\n",
      "\n",
      " Directory of D:\\Projects\\data-processing-frameworks\n",
      "\n",
      "\n",
      " Directory of D:\\Projects\\data-processing-frameworks\\data\\nyse_all\\nyse_data\n",
      "\n",
      "2024-08-22  06:37 PM    <DIR>          .\n",
      "2024-08-22  06:37 PM    <DIR>          ..\n",
      "2024-08-20  11:30 AM         3,842,443 NYSE_1997.txt.gz\n",
      "2024-08-20  11:30 AM         4,142,942 NYSE_1998.txt.gz\n",
      "2024-08-20  11:30 AM         4,297,025 NYSE_1999.txt.gz\n",
      "2024-08-20  11:30 AM         4,439,306 NYSE_2000.txt.gz\n",
      "2024-08-20  11:30 AM         4,722,623 NYSE_2001.txt.gz\n",
      "2024-08-20  11:30 AM         5,021,940 NYSE_2002.txt.gz\n",
      "2024-08-20  11:30 AM         5,271,305 NYSE_2003.txt.gz\n",
      "2024-08-20  11:30 AM         5,689,069 NYSE_2004.txt.gz\n",
      "2024-08-20  11:30 AM         6,207,833 NYSE_2005.txt.gz\n",
      "2024-08-20  11:30 AM         6,480,175 NYSE_2006.txt.gz\n",
      "2024-08-20  11:30 AM         6,903,056 NYSE_2007.txt.gz\n",
      "2024-08-20  11:30 AM         7,179,621 NYSE_2008.txt.gz\n",
      "2024-08-20  11:30 AM         7,186,235 NYSE_2009.txt.gz\n",
      "2024-08-20  11:30 AM         7,551,218 NYSE_2010.txt.gz\n",
      "2024-08-20  11:30 AM         7,980,961 NYSE_2011.txt.gz\n",
      "2024-08-20  11:30 AM         8,538,688 NYSE_2012.txt.gz\n",
      "2024-08-20  11:30 AM         9,588,984 NYSE_2013.txt.gz\n",
      "2024-08-20  11:30 AM        10,552,757 NYSE_2014.txt.gz\n",
      "2024-08-20  11:30 AM        11,327,417 NYSE_2015.txt.gz\n",
      "2024-08-20  11:30 AM        11,796,756 NYSE_2016.txt.gz\n",
      "2024-08-20  11:30 AM           519,586 NYSE_2017.txt.gz\n",
      "              21 File(s)    139,239,940 bytes\n",
      "               2 Dir(s)  916,912,345,088 bytes free\n"
     ]
    },
    {
     "name": "stderr",
     "output_type": "stream",
     "text": [
      "File Not Found\n"
     ]
    }
   ],
   "execution_count": 2
  },
  {
   "metadata": {
    "ExecuteTime": {
     "end_time": "2024-08-23T01:40:34.678166Z",
     "start_time": "2024-08-23T01:40:34.672915Z"
    }
   },
   "cell_type": "code",
   "source": "",
   "id": "1653dcdab573acac",
   "outputs": [
    {
     "data": {
      "text/plain": [
       "'D:\\\\Projects\\\\data-processing-frameworks'"
      ]
     },
     "execution_count": 2,
     "metadata": {},
     "output_type": "execute_result"
    }
   ],
   "execution_count": 2
  },
  {
   "metadata": {
    "ExecuteTime": {
     "end_time": "2024-08-23T01:41:20.695081Z",
     "start_time": "2024-08-23T01:41:20.647872Z"
    }
   },
   "cell_type": "code",
   "source": "",
   "id": "b9b2942120d920d",
   "outputs": [
    {
     "name": "stdout",
     "output_type": "stream",
     "text": [
      " Volume in drive D is Data\n",
      " Volume Serial Number is 8AE2-24DA\n",
      "\n",
      " Directory of D:\\Projects\\data-processing-frameworks\n",
      "\n",
      "2024-08-22  06:41 PM    <DIR>          .\n",
      "2024-08-22  06:30 PM    <DIR>          ..\n",
      "2024-08-22  06:30 PM             3,301 .gitignore\n",
      "2024-08-22  06:39 PM    <DIR>          .idea\n",
      "2024-08-22  06:39 PM    <DIR>          .venv\n",
      "2024-08-22  06:37 PM    <DIR>          data\n",
      "2024-08-22  06:41 PM             1,871 Data Processing Frameworks Comparison.ipynb\n",
      "2024-08-22  06:30 PM                58 README.md\n",
      "               3 File(s)          5,230 bytes\n",
      "               5 Dir(s)  916,913,262,592 bytes free\n"
     ]
    }
   ],
   "execution_count": 6
  },
  {
   "metadata": {},
   "cell_type": "code",
   "outputs": [],
   "execution_count": null,
   "source": "",
   "id": "e2c65651f8ee67e7"
  }
 ],
 "metadata": {
  "kernelspec": {
   "display_name": "Python 3",
   "language": "python",
   "name": "python3"
  },
  "language_info": {
   "codemirror_mode": {
    "name": "ipython",
    "version": 2
   },
   "file_extension": ".py",
   "mimetype": "text/x-python",
   "name": "python",
   "nbconvert_exporter": "python",
   "pygments_lexer": "ipython2",
   "version": "2.7.6"
  }
 },
 "nbformat": 4,
 "nbformat_minor": 5
}
